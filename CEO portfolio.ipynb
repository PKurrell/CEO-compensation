{
 "cells": [
  {
   "cell_type": "code",
   "execution_count": 1,
   "id": "46eaf047",
   "metadata": {},
   "outputs": [],
   "source": [
    "# Peter Kuurell\n",
    "from datascience import *\n",
    "import numpy as np\n",
    "\n",
    "%matplotlib inline\n",
    "import matplotlib.pyplot as plots\n",
    "plots.style.use('fivethirtyeight')\n"
   ]
  },
  {
   "cell_type": "code",
   "execution_count": 2,
   "id": "f288abbd",
   "metadata": {},
   "outputs": [
    {
     "data": {
      "text/html": [
       "<table border=\"1\" class=\"dataframe\">\n",
       "    <thead>\n",
       "        <tr>\n",
       "            <th>Rank</th> <th>Name</th> <th>Company (Headquarters)</th> <th>Total Pay</th> <th>% Change</th> <th>Cash Pay</th> <th>Equity Pay</th> <th>Other Pay</th> <th>Ratio of CEO pay to average industry worker pay</th>\n",
       "        </tr>\n",
       "    </thead>\n",
       "    <tbody>\n",
       "        <tr>\n",
       "            <td>1   </td> <td>Mark V. Hurd*   </td> <td>Oracle (Redwood City)         </td> <td>$53.25   </td> <td>(No previous year)</td> <td>$0.95   </td> <td>$52.27    </td> <td>$0.02    </td> <td>362                                            </td>\n",
       "        </tr>\n",
       "        <tr>\n",
       "            <td>2   </td> <td>Safra A. Catz*  </td> <td>Oracle (Redwood City)         </td> <td>$53.24   </td> <td>(No previous year)</td> <td>$0.95   </td> <td>$52.27    </td> <td>$0.02    </td> <td>362                                            </td>\n",
       "        </tr>\n",
       "        <tr>\n",
       "            <td>3   </td> <td>Robert A. Iger  </td> <td>Walt Disney (Burbank)         </td> <td>$44.91   </td> <td>-3%               </td> <td>$24.89  </td> <td>$17.28    </td> <td>$2.74    </td> <td>477                                            </td>\n",
       "        </tr>\n",
       "        <tr>\n",
       "            <td>4   </td> <td>Marissa A. Mayer</td> <td>Yahoo! (Sunnyvale)            </td> <td>$35.98   </td> <td>-15%              </td> <td>$1.00   </td> <td>$34.43    </td> <td>$0.55    </td> <td>342                                            </td>\n",
       "        </tr>\n",
       "        <tr>\n",
       "            <td>5   </td> <td>Marc Benioff    </td> <td>salesforce.com (San Francisco)</td> <td>$33.36   </td> <td>-16%              </td> <td>$4.65   </td> <td>$27.26    </td> <td>$1.45    </td> <td>338                                            </td>\n",
       "        </tr>\n",
       "    </tbody>\n",
       "</table>\n",
       "<p>... (97 rows omitted)</p>"
      ],
      "text/plain": [
       "<IPython.core.display.HTML object>"
      ]
     },
     "metadata": {},
     "output_type": "display_data"
    }
   ],
   "source": [
    "raw=Table.read_table('raw_compensation.csv')\n",
    "raw.show(5)"
   ]
  },
  {
   "cell_type": "code",
   "execution_count": 3,
   "id": "7a53f124",
   "metadata": {},
   "outputs": [],
   "source": [
    "def num_string(x):\n",
    "    y=x.strip('$')\n",
    "    z=float(y)\n",
    "    return z\n",
    "    "
   ]
  },
  {
   "cell_type": "code",
   "execution_count": 4,
   "id": "fa5f9e9a",
   "metadata": {},
   "outputs": [
    {
     "data": {
      "text/html": [
       "<table border=\"1\" class=\"dataframe\">\n",
       "    <thead>\n",
       "        <tr>\n",
       "            <th>Rank</th> <th>Name</th> <th>Company (Headquarters)</th> <th>Total Pay</th> <th>% Change</th> <th>Cash Pay</th> <th>Equity Pay</th> <th>Other Pay</th> <th>Ratio of CEO pay to average industry worker pay</th>\n",
       "        </tr>\n",
       "    </thead>\n",
       "    <tbody>\n",
       "        <tr>\n",
       "            <td>1   </td> <td>Mark V. Hurd*     </td> <td>Oracle (Redwood City)         </td> <td>53.25    </td> <td>(No previous year)</td> <td>$0.95   </td> <td>$52.27    </td> <td>$0.02    </td> <td>362                                            </td>\n",
       "        </tr>\n",
       "        <tr>\n",
       "            <td>2   </td> <td>Safra A. Catz*    </td> <td>Oracle (Redwood City)         </td> <td>53.24    </td> <td>(No previous year)</td> <td>$0.95   </td> <td>$52.27    </td> <td>$0.02    </td> <td>362                                            </td>\n",
       "        </tr>\n",
       "        <tr>\n",
       "            <td>3   </td> <td>Robert A. Iger    </td> <td>Walt Disney (Burbank)         </td> <td>44.91    </td> <td>-3%               </td> <td>$24.89  </td> <td>$17.28    </td> <td>$2.74    </td> <td>477                                            </td>\n",
       "        </tr>\n",
       "        <tr>\n",
       "            <td>4   </td> <td>Marissa A. Mayer  </td> <td>Yahoo! (Sunnyvale)            </td> <td>35.98    </td> <td>-15%              </td> <td>$1.00   </td> <td>$34.43    </td> <td>$0.55    </td> <td>342                                            </td>\n",
       "        </tr>\n",
       "        <tr>\n",
       "            <td>5   </td> <td>Marc Benioff      </td> <td>salesforce.com (San Francisco)</td> <td>33.36    </td> <td>-16%              </td> <td>$4.65   </td> <td>$27.26    </td> <td>$1.45    </td> <td>338                                            </td>\n",
       "        </tr>\n",
       "        <tr>\n",
       "            <td>6   </td> <td>John H. Hammergren</td> <td>McKesson (San Francisco)      </td> <td>24.84    </td> <td>-4%               </td> <td>$12.10  </td> <td>$12.37    </td> <td>$0.37    </td> <td>222                                            </td>\n",
       "        </tr>\n",
       "        <tr>\n",
       "            <td>7   </td> <td>John S. Watson    </td> <td>Chevron (San Ramon)           </td> <td>22.04    </td> <td>-15%              </td> <td>$4.31   </td> <td>$14.68    </td> <td>$3.05    </td> <td>183                                            </td>\n",
       "        </tr>\n",
       "        <tr>\n",
       "            <td>8   </td> <td>Jeffrey Weiner    </td> <td>LinkedIn (Mountain View)      </td> <td>19.86    </td> <td>27%               </td> <td>$2.47   </td> <td>$17.26    </td> <td>$0.13    </td> <td>182                                            </td>\n",
       "        </tr>\n",
       "        <tr>\n",
       "            <td>9   </td> <td>John T. Chambers**</td> <td>Cisco Systems (San Jose)      </td> <td>19.62    </td> <td>19%               </td> <td>$5.10   </td> <td>$14.51    </td> <td>$0.01    </td> <td>170                                            </td>\n",
       "        </tr>\n",
       "        <tr>\n",
       "            <td>10  </td> <td>John G. Stumpf    </td> <td>Wells Fargo  (San Francisco)  </td> <td>19.32    </td> <td>-10%              </td> <td>$6.80   </td> <td>$12.50    </td> <td>$0.02    </td> <td>256                                            </td>\n",
       "        </tr>\n",
       "    </tbody>\n",
       "</table>\n",
       "<p>... (92 rows omitted)</p>"
      ],
      "text/plain": [
       "Rank | Name               | Company (Headquarters)         | Total Pay | % Change           | Cash Pay | Equity Pay | Other Pay | Ratio of CEO pay to average industry worker pay\n",
       "1    | Mark V. Hurd*      | Oracle (Redwood City)          | 53.25     | (No previous year) | $0.95    | $52.27     | $0.02     | 362\n",
       "2    | Safra A. Catz*     | Oracle (Redwood City)          | 53.24     | (No previous year) | $0.95    | $52.27     | $0.02     | 362\n",
       "3    | Robert A. Iger     | Walt Disney (Burbank)          | 44.91     | -3%                | $24.89   | $17.28     | $2.74     | 477\n",
       "4    | Marissa A. Mayer   | Yahoo! (Sunnyvale)             | 35.98     | -15%               | $1.00    | $34.43     | $0.55     | 342\n",
       "5    | Marc Benioff       | salesforce.com (San Francisco) | 33.36     | -16%               | $4.65    | $27.26     | $1.45     | 338\n",
       "6    | John H. Hammergren | McKesson (San Francisco)       | 24.84     | -4%                | $12.10   | $12.37     | $0.37     | 222\n",
       "7    | John S. Watson     | Chevron (San Ramon)            | 22.04     | -15%               | $4.31    | $14.68     | $3.05     | 183\n",
       "8    | Jeffrey Weiner     | LinkedIn (Mountain View)       | 19.86     | 27%                | $2.47    | $17.26     | $0.13     | 182\n",
       "9    | John T. Chambers** | Cisco Systems (San Jose)       | 19.62     | 19%                | $5.10    | $14.51     | $0.01     | 170\n",
       "10   | John G. Stumpf     | Wells Fargo  (San Francisco)   | 19.32     | -10%               | $6.80    | $12.50     | $0.02     | 256\n",
       "... (92 rows omitted)"
      ]
     },
     "execution_count": 4,
     "metadata": {},
     "output_type": "execute_result"
    }
   ],
   "source": [
    "newraw=raw.with_column('Total Pay',raw.apply(num_string,'Total Pay'))\n",
    "newraw"
   ]
  },
  {
   "cell_type": "code",
   "execution_count": 5,
   "id": "dc2966d1",
   "metadata": {},
   "outputs": [
    {
     "name": "stderr",
     "output_type": "stream",
     "text": [
      "C:\\Users\\STSC\\anaconda3\\lib\\site-packages\\datascience\\tables.py:222: FutureWarning: Implicit column method lookup is deprecated.\n",
      "  warnings.warn(\"Implicit column method lookup is deprecated.\", FutureWarning)\n"
     ]
    },
    {
     "data": {
      "text/plain": [
       "11.445294117647059"
      ]
     },
     "execution_count": 5,
     "metadata": {},
     "output_type": "execute_result"
    }
   ],
   "source": [
    "avgpay=newraw.select('Total Pay')\n",
    "newpay=avgpay.sum()\n",
    "newpay\n",
    "ceoavg=1167.42/102\n",
    "ceoavg"
   ]
  },
  {
   "cell_type": "code",
   "execution_count": 6,
   "id": "663fb812",
   "metadata": {},
   "outputs": [
    {
     "data": {
      "text/html": [
       "<table border=\"1\" class=\"dataframe\">\n",
       "    <thead>\n",
       "        <tr>\n",
       "            <th>Name</th> <th>Total Pay</th>\n",
       "        </tr>\n",
       "    </thead>\n",
       "    <tbody>\n",
       "        <tr>\n",
       "            <td>Mark V. Hurd*     </td> <td>53.25    </td>\n",
       "        </tr>\n",
       "        <tr>\n",
       "            <td>Safra A. Catz*    </td> <td>53.24    </td>\n",
       "        </tr>\n",
       "        <tr>\n",
       "            <td>Robert A. Iger    </td> <td>44.91    </td>\n",
       "        </tr>\n",
       "        <tr>\n",
       "            <td>Marissa A. Mayer  </td> <td>35.98    </td>\n",
       "        </tr>\n",
       "        <tr>\n",
       "            <td>Marc Benioff      </td> <td>33.36    </td>\n",
       "        </tr>\n",
       "        <tr>\n",
       "            <td>John H. Hammergren</td> <td>24.84    </td>\n",
       "        </tr>\n",
       "        <tr>\n",
       "            <td>John S. Watson    </td> <td>22.04    </td>\n",
       "        </tr>\n",
       "        <tr>\n",
       "            <td>Jeffrey Weiner    </td> <td>19.86    </td>\n",
       "        </tr>\n",
       "        <tr>\n",
       "            <td>John T. Chambers**</td> <td>19.62    </td>\n",
       "        </tr>\n",
       "        <tr>\n",
       "            <td>John G. Stumpf    </td> <td>19.32    </td>\n",
       "        </tr>\n",
       "    </tbody>\n",
       "</table>\n",
       "<p>... (11 rows omitted)</p>"
      ],
      "text/plain": [
       "Name               | Total Pay\n",
       "Mark V. Hurd*      | 53.25\n",
       "Safra A. Catz*     | 53.24\n",
       "Robert A. Iger     | 44.91\n",
       "Marissa A. Mayer   | 35.98\n",
       "Marc Benioff       | 33.36\n",
       "John H. Hammergren | 24.84\n",
       "John S. Watson     | 22.04\n",
       "Jeffrey Weiner     | 19.86\n",
       "John T. Chambers** | 19.62\n",
       "John G. Stumpf     | 19.32\n",
       "... (11 rows omitted)"
      ]
     },
     "execution_count": 6,
     "metadata": {},
     "output_type": "execute_result"
    }
   ],
   "source": [
    "ceoname=newraw.select('Name','Total Pay')\n",
    "ceofif=ceoname.where('Total Pay',are.above(15))\n",
    "ceofif.sort('Total Pay',descending=True)"
   ]
  },
  {
   "cell_type": "code",
   "execution_count": 7,
   "id": "044433f6",
   "metadata": {},
   "outputs": [
    {
     "data": {
      "image/png": "[encoded data removed]",
      "text/plain": [
       "<Figure size 432x288 with 1 Axes>"
      ]
     },
     "metadata": {},
     "output_type": "display_data"
    }
   ],
   "source": [
    "ceograph=newraw.select('Total Pay')\n",
    "ceograph.hist('Total Pay',bins=(5))"
   ]
  },
  {
   "cell_type": "code",
   "execution_count": 8,
   "id": "d9ce601e",
   "metadata": {},
   "outputs": [
    {
     "name": "stderr",
     "output_type": "stream",
     "text": [
      "C:\\Users\\STSC\\AppData\\Local\\Temp/ipykernel_16568/963536493.py:2: RuntimeWarning: invalid value encountered in true_divide\n",
      "  cashraw.with_column('percent cash', cashraw.column('Cash Pay') / cashraw.column('Total Pay'))\n"
     ]
    },
    {
     "data": {
      "text/html": [
       "<table border=\"1\" class=\"dataframe\">\n",
       "    <thead>\n",
       "        <tr>\n",
       "            <th>Rank</th> <th>Name</th> <th>Company (Headquarters)</th> <th>Total Pay</th> <th>% Change</th> <th>Cash Pay</th> <th>Equity Pay</th> <th>Other Pay</th> <th>Ratio of CEO pay to average industry worker pay</th> <th>percent cash</th>\n",
       "        </tr>\n",
       "    </thead>\n",
       "    <tbody>\n",
       "        <tr>\n",
       "            <td>1   </td> <td>Mark V. Hurd*     </td> <td>Oracle (Redwood City)         </td> <td>53.25    </td> <td>(No previous year)</td> <td>0.95    </td> <td>$52.27    </td> <td>$0.02    </td> <td>362                                            </td> <td>0.0178404   </td>\n",
       "        </tr>\n",
       "        <tr>\n",
       "            <td>2   </td> <td>Safra A. Catz*    </td> <td>Oracle (Redwood City)         </td> <td>53.24    </td> <td>(No previous year)</td> <td>0.95    </td> <td>$52.27    </td> <td>$0.02    </td> <td>362                                            </td> <td>0.0178437   </td>\n",
       "        </tr>\n",
       "        <tr>\n",
       "            <td>3   </td> <td>Robert A. Iger    </td> <td>Walt Disney (Burbank)         </td> <td>44.91    </td> <td>-3%               </td> <td>24.89   </td> <td>$17.28    </td> <td>$2.74    </td> <td>477                                            </td> <td>0.55422     </td>\n",
       "        </tr>\n",
       "        <tr>\n",
       "            <td>4   </td> <td>Marissa A. Mayer  </td> <td>Yahoo! (Sunnyvale)            </td> <td>35.98    </td> <td>-15%              </td> <td>1       </td> <td>$34.43    </td> <td>$0.55    </td> <td>342                                            </td> <td>0.0277932   </td>\n",
       "        </tr>\n",
       "        <tr>\n",
       "            <td>5   </td> <td>Marc Benioff      </td> <td>salesforce.com (San Francisco)</td> <td>33.36    </td> <td>-16%              </td> <td>4.65    </td> <td>$27.26    </td> <td>$1.45    </td> <td>338                                            </td> <td>0.139388    </td>\n",
       "        </tr>\n",
       "        <tr>\n",
       "            <td>6   </td> <td>John H. Hammergren</td> <td>McKesson (San Francisco)      </td> <td>24.84    </td> <td>-4%               </td> <td>12.1    </td> <td>$12.37    </td> <td>$0.37    </td> <td>222                                            </td> <td>0.487118    </td>\n",
       "        </tr>\n",
       "        <tr>\n",
       "            <td>7   </td> <td>John S. Watson    </td> <td>Chevron (San Ramon)           </td> <td>22.04    </td> <td>-15%              </td> <td>4.31    </td> <td>$14.68    </td> <td>$3.05    </td> <td>183                                            </td> <td>0.195554    </td>\n",
       "        </tr>\n",
       "        <tr>\n",
       "            <td>8   </td> <td>Jeffrey Weiner    </td> <td>LinkedIn (Mountain View)      </td> <td>19.86    </td> <td>27%               </td> <td>2.47    </td> <td>$17.26    </td> <td>$0.13    </td> <td>182                                            </td> <td>0.124371    </td>\n",
       "        </tr>\n",
       "        <tr>\n",
       "            <td>9   </td> <td>John T. Chambers**</td> <td>Cisco Systems (San Jose)      </td> <td>19.62    </td> <td>19%               </td> <td>5.1     </td> <td>$14.51    </td> <td>$0.01    </td> <td>170                                            </td> <td>0.259939    </td>\n",
       "        </tr>\n",
       "        <tr>\n",
       "            <td>10  </td> <td>John G. Stumpf    </td> <td>Wells Fargo  (San Francisco)  </td> <td>19.32    </td> <td>-10%              </td> <td>6.8     </td> <td>$12.50    </td> <td>$0.02    </td> <td>256                                            </td> <td>0.351967    </td>\n",
       "        </tr>\n",
       "    </tbody>\n",
       "</table>\n",
       "<p>... (92 rows omitted)</p>"
      ],
      "text/plain": [
       "Rank | Name               | Company (Headquarters)         | Total Pay | % Change           | Cash Pay | Equity Pay | Other Pay | Ratio of CEO pay to average industry worker pay | percent cash\n",
       "1    | Mark V. Hurd*      | Oracle (Redwood City)          | 53.25     | (No previous year) | 0.95     | $52.27     | $0.02     | 362                                             | 0.0178404\n",
       "2    | Safra A. Catz*     | Oracle (Redwood City)          | 53.24     | (No previous year) | 0.95     | $52.27     | $0.02     | 362                                             | 0.0178437\n",
       "3    | Robert A. Iger     | Walt Disney (Burbank)          | 44.91     | -3%                | 24.89    | $17.28     | $2.74     | 477                                             | 0.55422\n",
       "4    | Marissa A. Mayer   | Yahoo! (Sunnyvale)             | 35.98     | -15%               | 1        | $34.43     | $0.55     | 342                                             | 0.0277932\n",
       "5    | Marc Benioff       | salesforce.com (San Francisco) | 33.36     | -16%               | 4.65     | $27.26     | $1.45     | 338                                             | 0.139388\n",
       "6    | John H. Hammergren | McKesson (San Francisco)       | 24.84     | -4%                | 12.1     | $12.37     | $0.37     | 222                                             | 0.487118\n",
       "7    | John S. Watson     | Chevron (San Ramon)            | 22.04     | -15%               | 4.31     | $14.68     | $3.05     | 183                                             | 0.195554\n",
       "8    | Jeffrey Weiner     | LinkedIn (Mountain View)       | 19.86     | 27%                | 2.47     | $17.26     | $0.13     | 182                                             | 0.124371\n",
       "9    | John T. Chambers** | Cisco Systems (San Jose)       | 19.62     | 19%                | 5.1      | $14.51     | $0.01     | 170                                             | 0.259939\n",
       "10   | John G. Stumpf     | Wells Fargo  (San Francisco)   | 19.32     | -10%               | 6.8      | $12.50     | $0.02     | 256                                             | 0.351967\n",
       "... (92 rows omitted)"
      ]
     },
     "execution_count": 8,
     "metadata": {},
     "output_type": "execute_result"
    }
   ],
   "source": [
    "cashraw=newraw.with_column('Cash Pay',newraw.apply(num_string,'Cash Pay'))\n",
    "cashraw.with_column('percent cash', cashraw.column('Cash Pay') / cashraw.column('Total Pay'))"
   ]
  },
  {
   "cell_type": "code",
   "execution_count": null,
   "id": "072ed699",
   "metadata": {},
   "outputs": [],
   "source": []
  }
 ],
 "metadata": {
  "kernelspec": {
   "display_name": "Python 3 (ipykernel)",
   "language": "python",
   "name": "python3"
  },
  "language_info": {
   "codemirror_mode": {
    "name": "ipython",
    "version": 3
   },
   "file_extension": ".py",
   "mimetype": "text/x-python",
   "name": "python",
   "nbconvert_exporter": "python",
   "pygments_lexer": "ipython3",
   "version": "3.9.7"
  }
 },
 "nbformat": 4,
 "nbformat_minor": 5
}
